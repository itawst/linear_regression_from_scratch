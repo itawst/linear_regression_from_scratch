{
 "cells": [
  {
   "cell_type": "markdown",
   "id": "450f3461",
   "metadata": {},
   "source": [
    "## Implementation of Simple Linear Regression from scratch"
   ]
  },
  {
   "cell_type": "code",
   "execution_count": 93,
   "id": "ceb6c90e",
   "metadata": {},
   "outputs": [],
   "source": [
    "# importing libraries\n",
    "import numpy as np\n",
    "import pandas as pd\n",
    "import matplotlib.pyplot as plt\n",
    "from sklearn.model_selection import train_test_split\n",
    "from sklearn.metrics import mean_absolute_error, mean_squared_error, r2_score"
   ]
  },
  {
   "cell_type": "code",
   "execution_count": 94,
   "id": "d77ca962",
   "metadata": {},
   "outputs": [],
   "source": [
    "# creating a class for linear regression\n",
    "class my_lr:\n",
    "    def __init__(self):\n",
    "        self.m = None\n",
    "        self.b = None\n",
    "        \n",
    "    def fit(self, xtrain, ytrain):\n",
    "        n = 0\n",
    "        d = 0\n",
    "        for i in range(xtrain.shape[0]):\n",
    "            n += (xtrain[i] - xtrain.mean())*(ytrain[i] - ytrain.mean())\n",
    "            d += (xtrain[i] - xtrain.mean())*(xtrain[i] - xtrain.mean())\n",
    "        self.m = n/d\n",
    "        self.b = (ytrain.mean() - (self.m)*xtrain.mean())\n",
    "        print(\" m = \", self.m)\n",
    "        print(\" b = \", self.b)\n",
    "    \n",
    "    def predict(self, xtest):\n",
    "        p = (self.m)*(xtest) + self.b\n",
    "        return p\n",
    "    "
   ]
  },
  {
   "cell_type": "code",
   "execution_count": 95,
   "id": "6f004944",
   "metadata": {},
   "outputs": [
    {
     "data": {
      "text/html": [
       "<div>\n",
       "<style scoped>\n",
       "    .dataframe tbody tr th:only-of-type {\n",
       "        vertical-align: middle;\n",
       "    }\n",
       "\n",
       "    .dataframe tbody tr th {\n",
       "        vertical-align: top;\n",
       "    }\n",
       "\n",
       "    .dataframe thead th {\n",
       "        text-align: right;\n",
       "    }\n",
       "</style>\n",
       "<table border=\"1\" class=\"dataframe\">\n",
       "  <thead>\n",
       "    <tr style=\"text-align: right;\">\n",
       "      <th></th>\n",
       "      <th>cgpa</th>\n",
       "      <th>package</th>\n",
       "    </tr>\n",
       "  </thead>\n",
       "  <tbody>\n",
       "    <tr>\n",
       "      <th>0</th>\n",
       "      <td>6.89</td>\n",
       "      <td>3.26</td>\n",
       "    </tr>\n",
       "    <tr>\n",
       "      <th>1</th>\n",
       "      <td>5.12</td>\n",
       "      <td>1.98</td>\n",
       "    </tr>\n",
       "    <tr>\n",
       "      <th>2</th>\n",
       "      <td>7.82</td>\n",
       "      <td>3.25</td>\n",
       "    </tr>\n",
       "    <tr>\n",
       "      <th>3</th>\n",
       "      <td>7.42</td>\n",
       "      <td>3.67</td>\n",
       "    </tr>\n",
       "    <tr>\n",
       "      <th>4</th>\n",
       "      <td>6.94</td>\n",
       "      <td>3.57</td>\n",
       "    </tr>\n",
       "  </tbody>\n",
       "</table>\n",
       "</div>"
      ],
      "text/plain": [
       "   cgpa  package\n",
       "0  6.89     3.26\n",
       "1  5.12     1.98\n",
       "2  7.82     3.25\n",
       "3  7.42     3.67\n",
       "4  6.94     3.57"
      ]
     },
     "execution_count": 95,
     "metadata": {},
     "output_type": "execute_result"
    }
   ],
   "source": [
    "# reading dataset\n",
    "df = pd.read_csv(\"placement.csv\")\n",
    "df.head()"
   ]
  },
  {
   "cell_type": "code",
   "execution_count": 96,
   "id": "97f50964",
   "metadata": {},
   "outputs": [
    {
     "data": {
      "text/plain": [
       "Text(0, 0.5, ' Package in lpa ')"
      ]
     },
     "execution_count": 96,
     "metadata": {},
     "output_type": "execute_result"
    },
    {
     "data": {
      "image/png": "[encoded data removed]",
      "text/plain": [
       "<Figure size 432x288 with 1 Axes>"
      ]
     },
     "metadata": {
      "needs_background": "light"
     },
     "output_type": "display_data"
    }
   ],
   "source": [
    "plt.scatter(df['cgpa'], df['package'], c='orange')\n",
    "plt.xlabel(\" CGPA \")\n",
    "plt.ylabel(\" Package in lpa \")"
   ]
  },
  {
   "cell_type": "markdown",
   "id": "7052f986",
   "metadata": {},
   "source": [
    "Observation : data is linear so Linear Regression can be used."
   ]
  },
  {
   "cell_type": "code",
   "execution_count": 97,
   "id": "1ff2812c",
   "metadata": {},
   "outputs": [],
   "source": [
    " # to get the numpy array\n",
    "x = df.iloc[:,0].values                        \n",
    "y = df.iloc[:,1].values"
   ]
  },
  {
   "cell_type": "code",
   "execution_count": 98,
   "id": "abcb7a1f",
   "metadata": {},
   "outputs": [],
   "source": [
    "# splitting the dataset\n",
    "xtrain, xtest, ytrain, ytest = train_test_split(x, y, test_size=0.2, random_state=0)"
   ]
  },
  {
   "cell_type": "code",
   "execution_count": 99,
   "id": "e7923d34",
   "metadata": {},
   "outputs": [],
   "source": [
    "# creating an instance of linear regression class\n",
    "lr  = my_lr()"
   ]
  },
  {
   "cell_type": "code",
   "execution_count": 100,
   "id": "3a3057a3",
   "metadata": {},
   "outputs": [
    {
     "name": "stdout",
     "output_type": "stream",
     "text": [
      " m =  0.5763304184634158\n",
      " b =  -1.0296070415163068\n"
     ]
    }
   ],
   "source": [
    "# fiiting the model with training data\n",
    "lr.fit(xtrain, ytrain)"
   ]
  },
  {
   "cell_type": "code",
   "execution_count": 101,
   "id": "a2715e07",
   "metadata": {},
   "outputs": [],
   "source": [
    "# getting the predicted values for test data\n",
    "y_pred = lr.predict(xtest)"
   ]
  },
  {
   "cell_type": "code",
   "execution_count": 102,
   "id": "ff473b87",
   "metadata": {},
   "outputs": [
    {
     "data": {
      "text/plain": [
       "Text(0, 0.5, ' Package in lpa ')"
      ]
     },
     "execution_count": 102,
     "metadata": {},
     "output_type": "execute_result"
    },
    {
     "data": {
      "image/png": "[encoded data removed]",
      "text/plain": [
       "<Figure size 432x288 with 1 Axes>"
      ]
     },
     "metadata": {
      "needs_background": "light"
     },
     "output_type": "display_data"
    }
   ],
   "source": [
    "plt.scatter(df['cgpa'], df['package'], c='orange')\n",
    "plt.plot(xtrain, lr.predict(xtrain), color='red')\n",
    "plt.xlabel(\" CGPA \")\n",
    "plt.ylabel(\" Package in lpa \")"
   ]
  },
  {
   "cell_type": "code",
   "execution_count": 103,
   "id": "a025f7e5",
   "metadata": {},
   "outputs": [
    {
     "data": {
      "text/plain": [
       "array([2.97012606, 2.55516816, 2.61856451, 3.40237388, 3.05657563,\n",
       "       2.35921582, 3.51763996, 2.4687186 , 4.1227869 , 3.21794814,\n",
       "       2.12868365, 3.19489493, 2.53787825, 3.05081232, 3.36779405,\n",
       "       2.86062328, 2.63009112, 2.82028015, 2.37074243, 2.91825632,\n",
       "       3.1660784 , 2.3361626 , 3.50611335, 3.9902309 , 2.20360661,\n",
       "       1.90967809, 3.08539215, 2.6070379 , 1.9212047 , 1.90391479,\n",
       "       2.91249302, 3.69630239, 2.60127459, 2.09410383, 2.50906173,\n",
       "       3.64443265, 3.17184171, 2.97012606, 3.83462169, 2.50329842])"
      ]
     },
     "execution_count": 103,
     "metadata": {},
     "output_type": "execute_result"
    }
   ],
   "source": [
    "y_pred\n"
   ]
  },
  {
   "cell_type": "code",
   "execution_count": 104,
   "id": "85c06641",
   "metadata": {},
   "outputs": [
    {
     "data": {
      "text/plain": [
       "array([2.98, 2.87, 2.59, 3.83, 3.64, 2.08, 2.99, 2.46, 3.65, 3.08, 1.61,\n",
       "       3.16, 2.72, 2.85, 3.44, 2.48, 2.73, 2.49, 2.43, 3.44, 2.72, 2.18,\n",
       "       3.58, 4.08, 2.19, 2.3 , 3.03, 3.18, 2.01, 1.86, 2.35, 3.39, 2.73,\n",
       "       2.25, 2.3 , 4.06, 3.12, 3.57, 3.49, 2.19])"
      ]
     },
     "execution_count": 104,
     "metadata": {},
     "output_type": "execute_result"
    }
   ],
   "source": [
    "# actual test result\n",
    "ytest"
   ]
  },
  {
   "cell_type": "code",
   "execution_count": 105,
   "id": "d0184b91",
   "metadata": {},
   "outputs": [
    {
     "name": "stdout",
     "output_type": "stream",
     "text": [
      " Mean Absolute Error  0.25524334486204087\n"
     ]
    }
   ],
   "source": [
    " print(\" Mean Absolute Error \", mean_absolute_error(ytest, y_pred))"
   ]
  },
  {
   "cell_type": "code",
   "execution_count": 106,
   "id": "a687349b",
   "metadata": {},
   "outputs": [
    {
     "name": "stdout",
     "output_type": "stream",
     "text": [
      " Mean Squared Error =  0.10221131059334207\n"
     ]
    }
   ],
   "source": [
    " print(\" Mean Squared Error = \", mean_squared_error(ytest, y_pred))"
   ]
  },
  {
   "cell_type": "code",
   "execution_count": 107,
   "id": "0a6fb5ed",
   "metadata": {},
   "outputs": [
    {
     "name": "stdout",
     "output_type": "stream",
     "text": [
      " Root Mean Squared Error =  0.31970503685951224\n"
     ]
    }
   ],
   "source": [
    "print(\" Root Mean Squared Error = \", np.sqrt(mean_squared_error(ytest, y_pred)))"
   ]
  },
  {
   "cell_type": "code",
   "execution_count": 109,
   "id": "f4872fd1",
   "metadata": {},
   "outputs": [
    {
     "name": "stdout",
     "output_type": "stream",
     "text": [
      " R2 score = 0.7297167943957027\n"
     ]
    }
   ],
   "source": [
    "print(\" R2 score =\", r2_score(ytest, y_pred))\n",
    "r2 = r2_score(ytest, y_pred)"
   ]
  },
  {
   "cell_type": "code",
   "execution_count": 112,
   "id": "21fe7bb6",
   "metadata": {},
   "outputs": [
    {
     "data": {
      "text/plain": [
       "(40,)"
      ]
     },
     "execution_count": 112,
     "metadata": {},
     "output_type": "execute_result"
    }
   ],
   "source": [
    "xtest.shape"
   ]
  },
  {
   "cell_type": "code",
   "execution_count": 113,
   "id": "8c1bc1e8",
   "metadata": {},
   "outputs": [
    {
     "name": "stdout",
     "output_type": "stream",
     "text": [
      " Adjusted R2 score =  0.7226040784587475\n"
     ]
    }
   ],
   "source": [
    "n = 40\n",
    "k = 1\n",
    "adj_r2 = 1 - ((1-r2)*(40 - 1)/(40 -1 -1))\n",
    "print(\" Adjusted R2 score = \", adj_r2)"
   ]
  },
  {
   "cell_type": "code",
   "execution_count": null,
   "id": "099aad71",
   "metadata": {},
   "outputs": [],
   "source": []
  }
 ],
 "metadata": {
  "kernelspec": {
   "display_name": "Python 3 (ipykernel)",
   "language": "python",
   "name": "python3"
  },
  "language_info": {
   "codemirror_mode": {
    "name": "ipython",
    "version": 3
   },
   "file_extension": ".py",
   "mimetype": "text/x-python",
   "name": "python",
   "nbconvert_exporter": "python",
   "pygments_lexer": "ipython3",
   "version": "3.9.7"
  }
 },
 "nbformat": 4,
 "nbformat_minor": 5
}
